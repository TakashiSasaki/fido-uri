{
 "cells": [
  {
   "cell_type": "markdown",
   "metadata": {},
   "source": [
    "# Digits Encoding\n",
    "\n",
    "FIDO URIを生成する際には、CBORとしてシリアライズされたデータを数字列に変換します。具体的には、7バイトを17桁の数字にエンコードします。\n",
    "\n",
    "元のバイト列が7の倍数でない場合、1〜6バイトが余りますが、それぞれ3, 5, 8, 10, 13, 15桁の数字としてエンコードします。\n",
    "\n",
    "このようなエンコーディング方法には特に名前が付けられていないようですが、これを「Digits Encoding」と呼ぶことにします。\n"
   ]
  },
  {
   "cell_type": "code",
   "execution_count": 1,
   "metadata": {},
   "outputs": [],
   "source": [
    "import struct\n",
    "\n",
    "def digit_encode(data: bytes) -> str:\n",
    "    chunk_size = 7\n",
    "    chunk_digits = 17\n",
    "    zeros = \"00000000000000000\"\n",
    "\n",
    "    ret = \"\"\n",
    "    while len(data) >= chunk_size:\n",
    "        chunk = data[:chunk_size] + b'\\x00'  # Extend to 8 bytes\n",
    "        value = int.from_bytes(chunk, 'little')\n",
    "        v = str(value)\n",
    "        ret += zeros[:chunk_digits - len(v)]\n",
    "        ret += v\n",
    "        data = data[chunk_size:]\n",
    "\n",
    "    if len(data) != 0:\n",
    "        partial_chunk_digits = 0x0fda8530\n",
    "        digits = (partial_chunk_digits >> (4 * len(data))) & 0xF\n",
    "        chunk = data + b'\\x00' * (8 - len(data))\n",
    "        value = int.from_bytes(chunk, 'little')\n",
    "        v = str(value)\n",
    "        ret += zeros[:digits - len(v)]\n",
    "        ret += v\n",
    "\n",
    "    return ret\n"
   ]
  },
  {
   "cell_type": "code",
   "execution_count": 2,
   "metadata": {},
   "outputs": [],
   "source": [
    "def digit_decode(encoded: str) -> bytes:\n",
    "    chunk_digits = 17\n",
    "    decoded = b\"\"\n",
    "    while len(encoded) >= chunk_digits:\n",
    "        chunk_str = encoded[:chunk_digits]\n",
    "        value = int(chunk_str)\n",
    "        chunk = value.to_bytes(8, 'little')[:7]  # Take only the first 7 bytes\n",
    "        decoded += chunk\n",
    "        encoded = encoded[chunk_digits:]\n",
    "\n",
    "    if len(encoded) != 0:\n",
    "        partial_chunk_digits = 0x0fda8530\n",
    "        for i in range(1, 7):\n",
    "            if len(encoded) == ((partial_chunk_digits >> (4 * i)) & 0xF):\n",
    "                value = int(encoded)\n",
    "                chunk = value.to_bytes(8, 'little')[:i]\n",
    "                decoded += chunk\n",
    "                break\n",
    "\n",
    "    return decoded\n"
   ]
  },
  {
   "cell_type": "markdown",
   "metadata": {},
   "source": [
    "# ラウンドトリップ確認\n",
    "digit_encodeとdigit_decodeがバイナリデータに対してラウンドトリップを達成していることを確認。"
   ]
  },
  {
   "cell_type": "code",
   "execution_count": 3,
   "metadata": {},
   "outputs": [
    {
     "name": "stdout",
     "output_type": "stream",
     "text": [
      "Encoded: 15540725856023089112585661964897\n",
      "Decoded: b'1234567abcdef'\n",
      "Original and decoded are the same: True\n"
     ]
    }
   ],
   "source": [
    "data = b'1234567abcdef'\n",
    "encoded = digit_encode(data)\n",
    "print(f\"Encoded: {encoded}\")\n",
    "\n",
    "decoded = digit_decode(encoded)\n",
    "print(f\"Decoded: {decoded}\")\n",
    "print(f\"Original and decoded are the same: {data == decoded}\")\n"
   ]
  },
  {
   "cell_type": "markdown",
   "metadata": {},
   "source": [
    "# 実際のFIDO URIをデコード\n",
    "実際にGithubにPasskeyでログインしようとしたときに生成されたFIDO URIの数字部分をデコードしてみる。\n",
    "このデータはすでに期限を過ぎているためこれで認証することはできない。"
   ]
  },
  {
   "cell_type": "code",
   "execution_count": 4,
   "metadata": {},
   "outputs": [
    {
     "data": {
      "text/plain": [
       "b'\\xa6\\x00X!\\x03X3ebeC\\xa96\\x1f\\xc6\\xad\\xe8\\x80\\xa4\\x1d\\x87\\xa4\\xe6\\xca2y\\x841\\xd79\\xfd\\xbd\\xd7\\xbfBH\\xb6\\x01P\\xc5\\\\\\x02S\\x86\\xa58\\x9e\\xad+\\x05\\x1b7\\xbci\\x9b\\x02\\x02\\x03\\x1afEb)\\x04\\xf5\\x05bga'"
      ]
     },
     "execution_count": 4,
     "metadata": {},
     "output_type": "execute_result"
    }
   ],
   "source": [
    "decoded : bytes = digit_decode(\"144519942798050940878582488612106138031714230513094139379299368895081878828178926639100664952474023496122943190653681470073382838502067711648524250383106107096654083332\")\n",
    "decoded"
   ]
  },
  {
   "cell_type": "code",
   "execution_count": 5,
   "metadata": {},
   "outputs": [
    {
     "data": {
      "text/plain": [
       "{0: b'\\x03X3ebeC\\xa96\\x1f\\xc6\\xad\\xe8\\x80\\xa4\\x1d\\x87\\xa4\\xe6\\xca2y\\x841\\xd79\\xfd\\xbd\\xd7\\xbfBH\\xb6',\n",
       " 1: b'\\xc5\\\\\\x02S\\x86\\xa58\\x9e\\xad+\\x05\\x1b7\\xbci\\x9b',\n",
       " 2: 2,\n",
       " 3: 1715823145,\n",
       " 4: True,\n",
       " 5: 'ga'}"
      ]
     },
     "execution_count": 5,
     "metadata": {},
     "output_type": "execute_result"
    }
   ],
   "source": [
    "import cbor2\n",
    "cbor2.loads(decoded)"
   ]
  },
  {
   "cell_type": "markdown",
   "metadata": {},
   "source": [
    "### デコードされたCBORオブジェクトの説明\n",
    "\n",
    "```plaintext\n",
    "{\n",
    "  0: b'\\x03X3ebeC\\xa96\\x1f\\xc6\\xad\\xe8\\x80\\xa4\\x1d\\x87\\xa4\\xe6\\xca2y\\x841\\xd79\\xfd\\xbd\\xd7\\xbfBH\\xb6',\n",
    "  1: b'\\xc5\\\\\\x02S\\x86\\xa58\\x9e\\xad+\\x05\\x1b7\\xbci\\x9b',\n",
    "  2: 2,\n",
    "  3: 1715823145,\n",
    "  4: True,\n",
    "  5: 'ga'\n",
    "}\n",
    "```\n",
    "\n",
    "### キーと対応する値の詳細\n",
    "\n",
    "1. **キー 0** (33バイトの圧縮公開鍵)\n",
    "   - **値**: `b'\\x03X3ebeC\\xa96\\x1f\\xc6\\xad\\xe8\\x80\\xa4\\x1d\\x87\\xa4\\xe6\\xca2y\\x841\\xd79\\xfd\\xbd\\xd7\\xbfBH\\xb6'`\n",
    "   - **説明**: 33バイトのP-256, X9.62形式の圧縮公開鍵。\n",
    "\n",
    "2. **キー 1** (16バイトのランダムQR秘密鍵)\n",
    "   - **値**: `b'\\xc5\\\\\\x02S\\x86\\xa58\\x9e\\xad+\\x05\\x1b7\\xbci\\x9b'`\n",
    "   - **説明**: 16バイトのランダムなQR秘密鍵。\n",
    "\n",
    "3. **キー 2** (トンネルサーバードメインの数)\n",
    "   - **値**: `2`\n",
    "   - **説明**: 実装が知っているトンネルサーバードメインの数。\n",
    "\n",
    "4. **キー 3** (エポック秒での現在時刻)\n",
    "   - **値**: `1715823145`\n",
    "   - **説明**: 2024年5月15日 23:05:45 UTCに対応するエポック秒での時刻。\n",
    "\n",
    "5. **キー 4** (状態アシスト取引の可能性)\n",
    "   - **値**: `True`\n",
    "   - **説明**: デバイスが状態アシスト取引を行えることを示すブール値。\n",
    "\n",
    "6. **キー 5** (取引タイプのヒント)\n",
    "   - **値**: `'ga'`\n",
    "   - **説明**: 次に`getAssertion`が続くことを示すヒント。このヒントはユーザーにすぐにガイダンスを提供するためのものです。"
   ]
  }
 ],
 "metadata": {
  "kernelspec": {
   "display_name": "Python 3",
   "language": "python",
   "name": "python3"
  },
  "language_info": {
   "codemirror_mode": {
    "name": "ipython",
    "version": 3
   },
   "file_extension": ".py",
   "mimetype": "text/x-python",
   "name": "python",
   "nbconvert_exporter": "python",
   "pygments_lexer": "ipython3",
   "version": "3.12.3"
  }
 },
 "nbformat": 4,
 "nbformat_minor": 2
}
